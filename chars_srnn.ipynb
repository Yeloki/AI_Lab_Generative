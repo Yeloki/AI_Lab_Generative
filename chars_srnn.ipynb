{
 "cells": [
  {
   "cell_type": "code",
   "execution_count": 3,
   "metadata": {},
   "outputs": [
    {
     "ename": "ModuleNotFoundError",
     "evalue": "No module named 'numpy'",
     "output_type": "error",
     "traceback": [
      "\u001b[1;31m---------------------------------------------------------------------------\u001b[0m",
      "\u001b[1;31mModuleNotFoundError\u001b[0m                       Traceback (most recent call last)",
      "Cell \u001b[1;32mIn[3], line 1\u001b[0m\n\u001b[1;32m----> 1\u001b[0m \u001b[38;5;28;01mimport\u001b[39;00m \u001b[38;5;21;01mnumpy\u001b[39;00m \u001b[38;5;28;01mas\u001b[39;00m \u001b[38;5;21;01mnp\u001b[39;00m\n\u001b[0;32m      2\u001b[0m \u001b[38;5;28;01mimport\u001b[39;00m \u001b[38;5;21;01mtensorflow\u001b[39;00m \u001b[38;5;28;01mas\u001b[39;00m \u001b[38;5;21;01mtf\u001b[39;00m\n\u001b[0;32m      4\u001b[0m \u001b[38;5;28;01mfrom\u001b[39;00m \u001b[38;5;21;01mtensorflow\u001b[39;00m\u001b[38;5;21;01m.\u001b[39;00m\u001b[38;5;21;01mkeras\u001b[39;00m\u001b[38;5;21;01m.\u001b[39;00m\u001b[38;5;21;01mmodels\u001b[39;00m \u001b[38;5;28;01mimport\u001b[39;00m Sequential\n",
      "\u001b[1;31mModuleNotFoundError\u001b[0m: No module named 'numpy'"
     ]
    }
   ],
   "source": [
    "import numpy as np\n",
    "import tensorflow as tf\n",
    "\n",
    "from tensorflow.keras.models import Sequential\n",
    "from tensorflow.keras.layers import Dense, SimpleRNN, Embedding\n",
    "from tensorflow.keras.preprocessing.text import Tokenizer\n",
    "from tensorflow.data import Dataset, AUTOTUNE\n",
    "from tensorflow import keras\n",
    "from keras import losses\n"
   ]
  },
  {
   "cell_type": "code",
   "execution_count": null,
   "metadata": {},
   "outputs": [],
   "source": [
    "print(\"Num GPUs Available: \", len(tf.config.list_physical_devices('GPU')))"
   ]
  },
  {
   "cell_type": "code",
   "execution_count": null,
   "metadata": {},
   "outputs": [],
   "source": [
    "raw = open('data2.txt', mode='r', encoding='utf-8').readlines()\n",
    "data = []\n",
    "for line in raw:\n",
    "    if line != '\\n' and 'Глава' not in line:\n",
    "        data.append(' '.join(line.split()[1:]))\n",
    "    \n",
    "data = [line.replace('\\n', ' ').replace('\\xa0', ' ') for line in data]\n",
    "text = ' '.join(data)"
   ]
  },
  {
   "cell_type": "code",
   "execution_count": null,
   "metadata": {},
   "outputs": [],
   "source": [
    "text[:100]"
   ]
  },
  {
   "cell_type": "code",
   "execution_count": null,
   "metadata": {},
   "outputs": [],
   "source": [
    "def get_features_target(seq):\n",
    "    features = seq[:-1]\n",
    "    target = seq[1:]\n",
    "    return features, target\n",
    "\n",
    "BATCH_SIZE = 128\n",
    "\n",
    "alphabet = np.array(sorted(set(text)))\n",
    "sym_to_idx = {}\n",
    "idx_to_sym = {}\n",
    "\n",
    "for idx, sym in enumerate(alphabet):\n",
    "    sym_to_idx[sym] = idx\n",
    "    idx_to_sym[idx] = sym\n",
    "    \n",
    "text_idx = np.array([sym_to_idx[char] for char in text])\n",
    "sequences = Dataset.from_tensor_slices(text_idx).batch(BATCH_SIZE, drop_remainder=True)\n",
    "\n",
    "dataset = sequences.map(get_features_target)\n",
    "\n",
    "data = dataset.batch(BATCH_SIZE, drop_remainder=True).repeat()\n",
    "data = data.prefetch(AUTOTUNE)"
   ]
  },
  {
   "cell_type": "code",
   "execution_count": null,
   "metadata": {},
   "outputs": [],
   "source": [
    "rnn_model = keras.Sequential([\n",
    "    keras.layers.Embedding(len(alphabet), BATCH_SIZE),\n",
    "    keras.layers.SimpleRNN(64, return_sequences=True, stateful=True),\n",
    "    keras.layers.Dense(len(alphabet))\n",
    "])\n",
    "\n",
    "rnn_model.compile(optimizer='adam', loss=losses.SparseCategoricalCrossentropy(from_logits=True), metrics=['accuracy'])\n",
    "rnn_model.fit(data, epochs=40, verbose=1, steps_per_epoch= len(sequences) // BATCH_SIZE)"
   ]
  },
  {
   "cell_type": "code",
   "execution_count": null,
   "metadata": {},
   "outputs": [],
   "source": [
    "def predict_next(sample, model, tokenizer, vocabulary, n_next, rnd_power, batch_size):\n",
    "    sample_token = [tokenizer[char] for char in sample]\n",
    "    predicted = sample_token\n",
    "\n",
    "    sample_tensor = tf.expand_dims(sample_token, 0)\n",
    "    sample_tensor = tf.repeat(sample_tensor, batch_size, axis=0)\n",
    "    \n",
    "    for _ in range(n_next):\n",
    "        cur = model(sample_tensor)\n",
    "        cur = cur[0].numpy() / rnd_power\n",
    "        cur = tf.random.categorical(cur, num_samples=1)[-1, 0].numpy()\n",
    "        predicted.append(cur)\n",
    "        sample_tensor = predicted[-99:]\n",
    "        sample_tensor = tf.expand_dims([cur], 0)\n",
    "        sample_tensor = tf.repeat(sample_tensor, batch_size, axis=0)\n",
    "    res = [vocabulary[i] for i in predicted]\n",
    "    generated = ''.join(res)\n",
    "    return generated"
   ]
  },
  {
   "cell_type": "code",
   "execution_count": null,
   "metadata": {},
   "outputs": [],
   "source": [
    "print(predict_next(\n",
    "    sample='б',\n",
    "    model=rnn_model,\n",
    "    tokenizer=sym_to_idx,\n",
    "    vocabulary=idx_to_sym,\n",
    "    n_next=200,\n",
    "    rnd_power=0.6,\n",
    "    batch_size=BATCH_SIZE\n",
    "))"
   ]
  },
  {
   "cell_type": "code",
   "execution_count": null,
   "metadata": {},
   "outputs": [],
   "source": [
    "print(predict_next(\n",
    "    sample='1',\n",
    "    model=rnn_model,\n",
    "    tokenizer=sym_to_idx,\n",
    "    vocabulary=idx_to_sym,\n",
    "    n_next=100,\n",
    "    rnd_power=0.2,\n",
    "    batch_size=BATCH_SIZE\n",
    "))"
   ]
  }
 ],
 "metadata": {
  "kernelspec": {
   "display_name": "Python 3",
   "language": "python",
   "name": "python3"
  },
  "language_info": {
   "codemirror_mode": {
    "name": "ipython",
    "version": 3
   },
   "file_extension": ".py",
   "mimetype": "text/x-python",
   "name": "python",
   "nbconvert_exporter": "python",
   "pygments_lexer": "ipython3",
   "version": "3.10.9"
  }
 },
 "nbformat": 4,
 "nbformat_minor": 2
}
